{
 "cells": [
  {
   "cell_type": "markdown",
   "metadata": {},
   "source": [
    "# Output 문장 구조 EDA"
   ]
  },
  {
   "cell_type": "code",
   "execution_count": 1,
   "metadata": {},
   "outputs": [],
   "source": [
    "import pandas as pd\n",
    "import json\n",
    "import matplotlib.pyplot as plt\n",
    "import seaborn as sns\n",
    "from copy import deepcopy\n",
    "from transformers import AutoTokenizer\n",
    "from collections import defaultdict"
   ]
  },
  {
   "cell_type": "code",
   "execution_count": 2,
   "metadata": {},
   "outputs": [],
   "source": [
    "def make_dataframe(path: str) -> pd.DataFrame:\n",
    "    \"\"\"\n",
    "    Read a json file and return a pandas DataFrame.\n",
    "\n",
    "    Parameters:\n",
    "    path (str): Path to the json file.\n",
    "\n",
    "    Returns:\n",
    "    pd.DataFrame: DataFrame of the json file.\n",
    "    \"\"\"\n",
    "    # Read the json file\n",
    "    with open(path, 'r') as file:\n",
    "        data = json.load(file)\n",
    "\n",
    "    # Create a DataFrame\n",
    "    # columns = ['id', 'conversation', 'subject_keyword', 'output']\n",
    "    df = pd.DataFrame(data)\n",
    "    df['conversation'] = df['input'].apply(lambda x: x['conversation'])\n",
    "    df['subject_keyword'] = df['input'].apply(lambda x: x['subject_keyword'])\n",
    "\n",
    "    # Drop the 'input' column\n",
    "    df.drop('input', axis=1, inplace=True)\n",
    "\n",
    "    # Speakers in the conversation\n",
    "    df['speakers'] = df['conversation'].apply(lambda turns: list(set(turn['speaker'] for turn in turns)))\n",
    "\n",
    "    # Reorder the columns\n",
    "    try:\n",
    "        df = df[['id', 'conversation', 'subject_keyword', 'speakers', 'output','inference']]\n",
    "\n",
    "    except:\n",
    "        df = df[['id', 'conversation', 'subject_keyword', 'speakers', 'output']]\n",
    "\n",
    "    return df"
   ]
  },
  {
   "cell_type": "code",
   "execution_count": 3,
   "metadata": {},
   "outputs": [],
   "source": [
    "# train_df = make_dataframe('../resource/data/일상대화요약_train.json')\n",
    "# dev_df = make_dataframe('../resource/data/일상대화요약_dev.json')\n",
    "# test_df = make_dataframe('../resource/data/일상대화요약_test.json')\n",
    "train_df = make_dataframe('./train.json')\n",
    "dev_df = make_dataframe('./dev.json')\n",
    "test_df = make_dataframe('./test.json')"
   ]
  },
  {
   "cell_type": "code",
   "execution_count": 4,
   "metadata": {},
   "outputs": [
    {
     "data": {
      "text/html": [
       "<div>\n",
       "<style scoped>\n",
       "    .dataframe tbody tr th:only-of-type {\n",
       "        vertical-align: middle;\n",
       "    }\n",
       "\n",
       "    .dataframe tbody tr th {\n",
       "        vertical-align: top;\n",
       "    }\n",
       "\n",
       "    .dataframe thead th {\n",
       "        text-align: right;\n",
       "    }\n",
       "</style>\n",
       "<table border=\"1\" class=\"dataframe\">\n",
       "  <thead>\n",
       "    <tr style=\"text-align: right;\">\n",
       "      <th></th>\n",
       "      <th>id</th>\n",
       "      <th>conversation</th>\n",
       "      <th>subject_keyword</th>\n",
       "      <th>speakers</th>\n",
       "      <th>output</th>\n",
       "    </tr>\n",
       "  </thead>\n",
       "  <tbody>\n",
       "    <tr>\n",
       "      <th>0</th>\n",
       "      <td>nikluge-2024-일상 대화 요약-train-000001</td>\n",
       "      <td>[{'speaker': 'SD2000001', 'utterance': '저는 여행 ...</td>\n",
       "      <td>[해외여행]</td>\n",
       "      <td>[SD2000002, SD2000001]</td>\n",
       "      <td>두 화자는 이 대화에서 좋았던 여행지와 기억나는 주요 명소에 대해 이야기했습니다. ...</td>\n",
       "    </tr>\n",
       "    <tr>\n",
       "      <th>1</th>\n",
       "      <td>nikluge-2024-일상 대화 요약-train-000002</td>\n",
       "      <td>[{'speaker': 'SD2000002', 'utterance': '여행 다닐 ...</td>\n",
       "      <td>[여행 스타일, 숙소, 음식]</td>\n",
       "      <td>[SD2000002, SD2000001]</td>\n",
       "      <td>두 화자는 이 대화에서 쇼핑하기, 숙소, 음식 등 각자 선호하는 여행 스타일에 대해...</td>\n",
       "    </tr>\n",
       "    <tr>\n",
       "      <th>2</th>\n",
       "      <td>nikluge-2024-일상 대화 요약-train-000003</td>\n",
       "      <td>[{'speaker': 'SD2000001', 'utterance': '그래서 한번...</td>\n",
       "      <td>[여행지, 일화]</td>\n",
       "      <td>[SD2000002, SD2000001]</td>\n",
       "      <td>두 화자는 이 대화에서 기억에 남는 여행지와 일화에 대해 이야기했습니다. SD200...</td>\n",
       "    </tr>\n",
       "    <tr>\n",
       "      <th>3</th>\n",
       "      <td>nikluge-2024-일상 대화 요약-train-000004</td>\n",
       "      <td>[{'speaker': 'SD2000005', 'utterance': 'name1 ...</td>\n",
       "      <td>[음식, 선호, 길거리 음식, 싫어하는 음식]</td>\n",
       "      <td>[SD2000006, SD2000005]</td>\n",
       "      <td>두 화자는 이 대화에서 좋아하는 음식과 싫어하는 음식에 대해 말했습니다. SD200...</td>\n",
       "    </tr>\n",
       "    <tr>\n",
       "      <th>4</th>\n",
       "      <td>nikluge-2024-일상 대화 요약-train-000005</td>\n",
       "      <td>[{'speaker': 'SD2000006', 'utterance': '그러면 na...</td>\n",
       "      <td>[다이어트 식품, 마실것]</td>\n",
       "      <td>[SD2000006, SD2000005]</td>\n",
       "      <td>두 화자는 이 대화에서 다이어트 식품과 좋아하는 음료에 대해 이야기했습니다. SD2...</td>\n",
       "    </tr>\n",
       "    <tr>\n",
       "      <th>...</th>\n",
       "      <td>...</td>\n",
       "      <td>...</td>\n",
       "      <td>...</td>\n",
       "      <td>...</td>\n",
       "      <td>...</td>\n",
       "    </tr>\n",
       "    <tr>\n",
       "      <th>501</th>\n",
       "      <td>nikluge-2024-일상 대화 요약-train-000502</td>\n",
       "      <td>[{'speaker': 'SD2100596', 'utterance': 'compan...</td>\n",
       "      <td>[company-name5]</td>\n",
       "      <td>[SD2100595, SD2100596]</td>\n",
       "      <td>두 화자는 이 대화에서 유명 유튜버의 식당 추천과 음식 장사의 성공 요인에 대해서 ...</td>\n",
       "    </tr>\n",
       "    <tr>\n",
       "      <th>502</th>\n",
       "      <td>nikluge-2024-일상 대화 요약-train-000503</td>\n",
       "      <td>[{'speaker': 'SD2100598', 'utterance': '나 이번 달...</td>\n",
       "      <td>[행복 주택]</td>\n",
       "      <td>[SD2100597, SD2100598]</td>\n",
       "      <td>두 화자는 이 대화에서 주택 마련 방법과 고충에 대해서 이야기했습니다. SD2100...</td>\n",
       "    </tr>\n",
       "    <tr>\n",
       "      <th>503</th>\n",
       "      <td>nikluge-2024-일상 대화 요약-train-000504</td>\n",
       "      <td>[{'speaker': 'SD2100598', 'utterance': '저는 지금 ...</td>\n",
       "      <td>[수익]</td>\n",
       "      <td>[SD2100597, SD2100598]</td>\n",
       "      <td>두 화자는 이 대화에서 현재 소득에서 수익 창출 방법에 대해 이야기 했습니다. SD...</td>\n",
       "    </tr>\n",
       "    <tr>\n",
       "      <th>504</th>\n",
       "      <td>nikluge-2024-일상 대화 요약-train-000505</td>\n",
       "      <td>[{'speaker': 'SD2100599', 'utterance': '동네에 맛있...</td>\n",
       "      <td>[점심]</td>\n",
       "      <td>[SD2100600, SD2100599]</td>\n",
       "      <td>두 화자는 이 대화에서 좋아하는 치킨 브랜드와 어제 저녁 먹은 음식과 점심으로 먹은...</td>\n",
       "    </tr>\n",
       "    <tr>\n",
       "      <th>505</th>\n",
       "      <td>nikluge-2024-일상 대화 요약-train-000506</td>\n",
       "      <td>[{'speaker': 'SD2100600', 'utterance': '집 근처에 ...</td>\n",
       "      <td>[맛집]</td>\n",
       "      <td>[SD2100600, SD2100599]</td>\n",
       "      <td>두 화자는 이 대화에서 맛집 소개 및 추천에 대해서 이야기했습니다. SD210060...</td>\n",
       "    </tr>\n",
       "  </tbody>\n",
       "</table>\n",
       "<p>506 rows × 5 columns</p>\n",
       "</div>"
      ],
      "text/plain": [
       "                                     id  \\\n",
       "0    nikluge-2024-일상 대화 요약-train-000001   \n",
       "1    nikluge-2024-일상 대화 요약-train-000002   \n",
       "2    nikluge-2024-일상 대화 요약-train-000003   \n",
       "3    nikluge-2024-일상 대화 요약-train-000004   \n",
       "4    nikluge-2024-일상 대화 요약-train-000005   \n",
       "..                                  ...   \n",
       "501  nikluge-2024-일상 대화 요약-train-000502   \n",
       "502  nikluge-2024-일상 대화 요약-train-000503   \n",
       "503  nikluge-2024-일상 대화 요약-train-000504   \n",
       "504  nikluge-2024-일상 대화 요약-train-000505   \n",
       "505  nikluge-2024-일상 대화 요약-train-000506   \n",
       "\n",
       "                                          conversation  \\\n",
       "0    [{'speaker': 'SD2000001', 'utterance': '저는 여행 ...   \n",
       "1    [{'speaker': 'SD2000002', 'utterance': '여행 다닐 ...   \n",
       "2    [{'speaker': 'SD2000001', 'utterance': '그래서 한번...   \n",
       "3    [{'speaker': 'SD2000005', 'utterance': 'name1 ...   \n",
       "4    [{'speaker': 'SD2000006', 'utterance': '그러면 na...   \n",
       "..                                                 ...   \n",
       "501  [{'speaker': 'SD2100596', 'utterance': 'compan...   \n",
       "502  [{'speaker': 'SD2100598', 'utterance': '나 이번 달...   \n",
       "503  [{'speaker': 'SD2100598', 'utterance': '저는 지금 ...   \n",
       "504  [{'speaker': 'SD2100599', 'utterance': '동네에 맛있...   \n",
       "505  [{'speaker': 'SD2100600', 'utterance': '집 근처에 ...   \n",
       "\n",
       "               subject_keyword                speakers  \\\n",
       "0                       [해외여행]  [SD2000002, SD2000001]   \n",
       "1             [여행 스타일, 숙소, 음식]  [SD2000002, SD2000001]   \n",
       "2                    [여행지, 일화]  [SD2000002, SD2000001]   \n",
       "3    [음식, 선호, 길거리 음식, 싫어하는 음식]  [SD2000006, SD2000005]   \n",
       "4               [다이어트 식품, 마실것]  [SD2000006, SD2000005]   \n",
       "..                         ...                     ...   \n",
       "501            [company-name5]  [SD2100595, SD2100596]   \n",
       "502                    [행복 주택]  [SD2100597, SD2100598]   \n",
       "503                       [수익]  [SD2100597, SD2100598]   \n",
       "504                       [점심]  [SD2100600, SD2100599]   \n",
       "505                       [맛집]  [SD2100600, SD2100599]   \n",
       "\n",
       "                                                output  \n",
       "0    두 화자는 이 대화에서 좋았던 여행지와 기억나는 주요 명소에 대해 이야기했습니다. ...  \n",
       "1    두 화자는 이 대화에서 쇼핑하기, 숙소, 음식 등 각자 선호하는 여행 스타일에 대해...  \n",
       "2    두 화자는 이 대화에서 기억에 남는 여행지와 일화에 대해 이야기했습니다. SD200...  \n",
       "3    두 화자는 이 대화에서 좋아하는 음식과 싫어하는 음식에 대해 말했습니다. SD200...  \n",
       "4    두 화자는 이 대화에서 다이어트 식품과 좋아하는 음료에 대해 이야기했습니다. SD2...  \n",
       "..                                                 ...  \n",
       "501  두 화자는 이 대화에서 유명 유튜버의 식당 추천과 음식 장사의 성공 요인에 대해서 ...  \n",
       "502  두 화자는 이 대화에서 주택 마련 방법과 고충에 대해서 이야기했습니다. SD2100...  \n",
       "503  두 화자는 이 대화에서 현재 소득에서 수익 창출 방법에 대해 이야기 했습니다. SD...  \n",
       "504  두 화자는 이 대화에서 좋아하는 치킨 브랜드와 어제 저녁 먹은 음식과 점심으로 먹은...  \n",
       "505  두 화자는 이 대화에서 맛집 소개 및 추천에 대해서 이야기했습니다. SD210060...  \n",
       "\n",
       "[506 rows x 5 columns]"
      ]
     },
     "execution_count": 4,
     "metadata": {},
     "output_type": "execute_result"
    }
   ],
   "source": [
    "train_df"
   ]
  },
  {
   "cell_type": "code",
   "execution_count": 6,
   "metadata": {},
   "outputs": [],
   "source": [
    "result_df = make_dataframe('../results/result_new_model.json')"
   ]
  },
  {
   "cell_type": "code",
   "execution_count": 30,
   "metadata": {},
   "outputs": [],
   "source": [
    "nova_result = make_dataframe('../results/hypernova.json')\n",
    "dev_nova_result = make_dataframe('../results/hypernova_dev.json')\n",
    "hypernova_result = make_dataframe('../results/hypernova.json')\n",
    "supernova_reuslt = make_dataframe('../results/supernova3.json')"
   ]
  },
  {
   "cell_type": "code",
   "execution_count": 40,
   "metadata": {},
   "outputs": [],
   "source": [
    "cosmos = make_dataframe('../results/cosmos.json')\n",
    "cosmos2 = make_dataframe('../results/cosmos2.json')\n",
    "cosmos25 = make_dataframe('../results/cosmos_25.json')\n",
    "cosmosre12 = make_dataframe('../results/cosmos_re12.json')"
   ]
  },
  {
   "cell_type": "markdown",
   "metadata": {},
   "source": [
    "## output의 구문 구조의 정성적 평가 결과에 따른 정량적 평가\n",
    "\n",
    "\n",
    "### 정성적 평가 결과output은 총 3가지 구조로 이루어져 있음\n",
    "\n",
    "- 맨 처음에 **전반적인 요약** 이 나오고\n",
    "- 두 번째로 **speaker 1**이 한 말에 대한 요약이 나오고\n",
    "- 세 번째로 **speaker 2**가 한 말에 대한 요약으로 마무리된다\n",
    "\n",
    "<br/>\n",
    "\n",
    "- 실제로 모든 데이터가 위와 같은 구조로 이루어져 있는지를 통계로 확인\n",
    "\n",
    "\n",
    "    - **문장 안에 speaker1과 speaker2가 모두 존재하는지 확인**\n",
    "\n",
    "        - 모두 존재함!\n",
    "\n",
    "    <br/>\n",
    "\n",
    "    - **문장 안에 맨 첫 번째 문장인 전반적인 요약에 speaker가 등장하는 샘플들의 개수 확인**\n",
    "\n",
    "        - train의 경우 87 / 506, dev의 경우 6 / 102\n",
    "\n",
    "    <br/> \n",
    "\n",
    "    - **그 순서가 speaker1, speaker2 순서로 이루어져 있는지 확인**\n",
    "\n",
    "        - 모두 그렇지는 않음! \n",
    "        - train dataset의 경우 506개 중에 328개\n",
    "            \n",
    "    <br/>\n",
    "            \n",
    "    - **그렇다면, conversation의 시작하는 speaker가 맨 앞에 오고, 그 다음 speaker가 뒤에 오는 순서인가?**\n",
    "\n",
    "        - 위의 sample과 이어지는 다음 sample인 경우 speaker2가 먼저 conversation을 시작하기도 함\n",
    "        - train dataset의 경우 492 / 506, dev dataset의 경우 100 / 102\n",
    "            \n",
    "\n",
    "### 결론\n",
    "- 일단 conversation을 시작하는 speaker가 첫번째로 요약되고, 그 이후 그 다음 speaker가 요약되는 경우가 압도적으로 많았다\n",
    "\n",
    "    - train의 경우 492/506, dev의 경우 100/102\n",
    "    - 이를 구문 구조의 output이 나오도록 강제시켜주는 것이 일반화에 도움을 줄 수 있어보인다\n",
    "    - rouge-1 평가지표에서는 앞 뒤의 순서가 바뀐다고 해도 점수에 변화가 없으므로 순서를 강제해주는 것이 평가지표 점수에 해를 끼치지 않을 것이다\n",
    "\n",
    "<br/>\n",
    "\n",
    "- output의 맨 첫 번째 문장에 speaker가 포함되는 경우가 10% 정도 있음"
   ]
  },
  {
   "cell_type": "code",
   "execution_count": 6,
   "metadata": {},
   "outputs": [],
   "source": [
    "def output_semantic_structure_statistics(df: pd.DataFrame) -> None:\n",
    "    \"\"\"\n",
    "    Print the statistics of the semantic structure of the output.\n",
    "\n",
    "    Parameters:\n",
    "    df (pd.DataFrame): DataFrame of the data.\n",
    "    \"\"\"\n",
    "    # Copy the DataFrame\n",
    "    df = deepcopy(df)\n",
    "    # temp = defaultdict(int)\n",
    "\n",
    "\n",
    "    # Check the speakers in the output\n",
    "    speakers_in_output = df.apply(lambda row: not ((row['speakers'][0]) in row['output'] and (row['speakers'][1] in row['output'])), axis=1)\n",
    "    if speakers_in_output.sum() > 0:\n",
    "        print(\"output:\", list(df[speakers_in_output]['output']))\n",
    "        print(\"speakers:\", list(df[speakers_in_output]['speakers']))\n",
    "        print(\"index\", list(df[speakers_in_output].index))\n",
    "    print('The number of samples that Speakers are not in the output:', speakers_in_output.sum(), end='\\n'+'-'*95+'\\n')\n",
    "    \n",
    "\n",
    "\n",
    "    # Split outputs into sentences by '.'\n",
    "    df['output'] = df['output'].apply(lambda x: x.split('.'))\n",
    "\n",
    "\n",
    "    # Check the speakers in the total summarization sentence (==output[0])\n",
    "    speakers_in_output = df.apply(lambda row: (row['speakers'][0]) in row['output'][0] or (row['speakers'][1] in row['output'][0]), axis=1)\n",
    "    print('The number of samples that Speakers are in the total summarization sentence:', speakers_in_output.sum(), '/', len(df), end='\\n'+'-'*95+'\\n')\n",
    "\n",
    "    # def add_subject_keyword_count(row):\n",
    "    #     for k in row['subject_keyword']:\n",
    "    #         temp[k] += 1\n",
    "\n",
    "    # df[speakers_in_output].apply(lambda row: add_subject_keyword_count(row), axis=1)\n",
    "\n",
    "    # join the sentences without a first sentence\n",
    "    df['output'] = df['output'].apply(lambda x: '.'.join(x[1:]))\n",
    "\n",
    "\n",
    "    # sort the speakers name\n",
    "    df['speakers'] = df['speakers'].apply(lambda x: sorted(x))\n",
    "\n",
    "\n",
    "    # Check the first indexes of the two speakers and the speaker1 - speaker2 order in the output \n",
    "    correct_order_sample = df.apply(lambda row: row['output'].find(row['speakers'][0]) < row['output'].find(row['speakers'][1]), axis=1)\n",
    "    print('The number of samples that the order of the speakers is (speaker1 - speaker2) :', correct_order_sample.sum(), '/', len(df), end='\\n'+'-'*95+'\\n')\n",
    "\n",
    "\n",
    "    # # check the starter speaker of the conversation is the first speaker in the output\n",
    "    # def compare_starter_speaker_is_first_speaker(row):\n",
    "    #     starter_speaker = row['conversation'][0]['speaker']\n",
    "    #     row['speakers'].remove(starter_speaker)\n",
    "    #     second_speaker = row['speakers'][0]\n",
    "    #     output = row['output']\n",
    "\n",
    "    #     if output.find(starter_speaker) < output.find(second_speaker):\n",
    "    #         # When the order of the speakers is (speaker1 - speaker2)\n",
    "    #         return True\n",
    "    #     else:\n",
    "    #         return False\n",
    "\n",
    "\n",
    "    # check the starter speaker of the conversation is the first speaker in the output\n",
    "    def compare_starter_speaker_is_first_speaker(row):\n",
    "        starter_speaker = row['conversation'][0]['speaker']\n",
    "        output = row['output']\n",
    "        if row['output'].find(row['speakers'][0]) < row['output'].find(row['speakers'][1]):\n",
    "            # When the order of the speakers is (speaker1 - speaker2)\n",
    "            return True\n",
    "        else:\n",
    "            # When the order of the speakers is (speaker2 - speaker1)\n",
    "            # Check the starter speaker is the second speaker\n",
    "            # If the starter speaker is the second speaker, return True else False\n",
    "            if starter_speaker == row['speakers'][1]:\n",
    "                return True\n",
    "            else:\n",
    "                return False\n",
    "\n",
    "    starter_speaker_is_first_speaker = df.apply(compare_starter_speaker_is_first_speaker, axis=1)\n",
    "    print('The number of samples that the starter speaker is the first speaker in the output:', starter_speaker_is_first_speaker.sum(), '/', len(df), end='\\n'+'-'*95+'\\n')\n",
    "\n",
    "    # Sample indexes that The starter speaker is not the first speaker in the output\n",
    "    print('Sample indexes that The starter speaker is not the first speaker in the output:',\n",
    "          df[~starter_speaker_is_first_speaker].index.tolist())\n",
    "    \n",
    "    # print(len(temp), sorted(temp.items(), key=lambda x: x[1], reverse=True))"
   ]
  },
  {
   "cell_type": "code",
   "execution_count": 38,
   "metadata": {},
   "outputs": [
    {
     "name": "stdout",
     "output_type": "stream",
     "text": [
      "The number of samples that Speakers are not in the output: 0\n",
      "-----------------------------------------------------------------------------------------------\n",
      "The number of samples that Speakers are in the total summarization sentence: 0 / 506\n",
      "-----------------------------------------------------------------------------------------------\n",
      "The number of samples that the order of the speakers is (speaker1 - speaker2) : 329 / 506\n",
      "-----------------------------------------------------------------------------------------------\n",
      "The number of samples that the starter speaker is the first speaker in the output: 493 / 506\n",
      "-----------------------------------------------------------------------------------------------\n",
      "Sample indexes that The starter speaker is not the first speaker in the output: [31, 32, 33, 62, 96, 141, 304, 305, 323, 328, 335, 336, 475]\n"
     ]
    }
   ],
   "source": [
    "output_semantic_structure_statistics(train_df)"
   ]
  },
  {
   "cell_type": "code",
   "execution_count": 39,
   "metadata": {},
   "outputs": [
    {
     "name": "stdout",
     "output_type": "stream",
     "text": [
      "The number of samples that Speakers are not in the output: 0\n",
      "-----------------------------------------------------------------------------------------------\n",
      "The number of samples that Speakers are in the total summarization sentence: 0 / 102\n",
      "-----------------------------------------------------------------------------------------------\n",
      "The number of samples that the order of the speakers is (speaker1 - speaker2) : 73 / 102\n",
      "-----------------------------------------------------------------------------------------------\n",
      "The number of samples that the starter speaker is the first speaker in the output: 100 / 102\n",
      "-----------------------------------------------------------------------------------------------\n",
      "Sample indexes that The starter speaker is not the first speaker in the output: [81, 83]\n"
     ]
    }
   ],
   "source": [
    "output_semantic_structure_statistics(dev_df)"
   ]
  },
  {
   "cell_type": "code",
   "execution_count": 127,
   "metadata": {},
   "outputs": [
    {
     "name": "stdout",
     "output_type": "stream",
     "text": [
      "The number of samples that Speakers are not in the output: 11\n",
      "-----------------------------------------------------------------------------------------------\n",
      "The number of samples that Speakers are in the total summarization sentence: 13 / 408\n",
      "-----------------------------------------------------------------------------------------------\n",
      "The number of samples that the order of the speakers is (speaker1 - speaker2) : 307 / 408\n",
      "-----------------------------------------------------------------------------------------------\n",
      "The number of samples that the starter speaker is the first speaker in the output: 396 / 408\n",
      "-----------------------------------------------------------------------------------------------\n",
      "Sample indexes that The starter speaker is not the first speaker in the output: [7, 117, 126, 153, 228, 267, 307, 341, 342, 344, 361, 385]\n"
     ]
    }
   ],
   "source": [
    "output_semantic_structure_statistics(result_df)"
   ]
  },
  {
   "cell_type": "code",
   "execution_count": 137,
   "metadata": {},
   "outputs": [
    {
     "name": "stdout",
     "output_type": "stream",
     "text": [
      "The number of samples that Speakers are not in the output: 7\n",
      "-----------------------------------------------------------------------------------------------\n",
      "The number of samples that Speakers are in the total summarization sentence: 308 / 408\n",
      "-----------------------------------------------------------------------------------------------\n",
      "The number of samples that the order of the speakers is (speaker1 - speaker2) : 320 / 408\n",
      "-----------------------------------------------------------------------------------------------\n",
      "The number of samples that the starter speaker is the first speaker in the output: 394 / 408\n",
      "-----------------------------------------------------------------------------------------------\n",
      "Sample indexes that The starter speaker is not the first speaker in the output: [24, 30, 47, 62, 68, 91, 93, 150, 224, 265, 284, 307, 327, 348]\n",
      "[0, 58, 90, 98, 119, 122, 123, 124, 132, 136, 137, 145, 147, 149, 149, 153, 154, 155, 158, 162, 163, 164, 166, 167, 168, 170, 171, 173, 174, 177, 179, 180, 183, 184, 185, 186, 187, 188, 188, 189, 190, 190, 191, 192, 192, 193, 193, 193, 195, 195, 196, 196, 199, 199, 199, 200, 204, 205, 208, 208, 210, 214, 214, 214, 215, 216, 217, 218, 219, 222, 222, 222, 224, 225, 225, 226, 226, 227, 228, 229, 230, 230, 230, 230, 232, 232, 233, 234, 234, 235, 236, 236, 237, 237, 239, 239, 240, 240, 241, 241, 244, 245, 246, 246, 246, 247, 247, 248, 249, 251, 251, 252, 252, 253, 253, 255, 256, 257, 257, 257, 257, 258, 258, 259, 259, 261, 261, 262, 264, 265, 267, 271, 273, 273, 275, 275, 276, 277, 278, 278, 278, 279, 280, 280, 281, 283, 283, 285, 286, 286, 289, 290, 290, 290, 291, 293, 294, 294, 295, 296, 297, 298, 299, 301, 301, 301, 302, 303, 303, 306, 308, 308, 309, 309, 309, 310, 310, 311, 311, 312, 312, 312, 313, 314, 314, 315, 316, 318, 320, 321, 322, 322, 326, 328, 329, 330, 331, 334, 336, 339, 340, 340, 340, 341, 341, 342, 344, 344, 346, 346, 347, 348, 348, 349, 349, 349, 349, 350, 350, 354, 356, 356, 364, 365, 370, 371, 375, 378, 379, 382, 383, 383, 384, 384, 386, 387, 389, 391, 391, 393, 395, 395, 395, 398, 399, 400, 401, 401, 401, 401, 404, 407, 409, 412, 416, 418, 419, 420, 423, 425, 427, 430, 431, 434, 437, 440, 441, 442, 446, 452, 452, 462, 466, 471, 499, 506, 506, 508, 510, 516, 527, 534, 535, 538, 547, 578, 591, 595, 597, 610, 616, 622, 623, 632, 647, 819, 850, 1030, 1228, 1393, 1538, 1595, 1654, 1720, 1728, 1770, 1790, 1810]\n"
     ]
    }
   ],
   "source": [
    "output_semantic_structure_statistics(supernova_reuslt)"
   ]
  },
  {
   "cell_type": "markdown",
   "metadata": {},
   "source": [
    "- baseline에 추가 fine-tuning된 모델의 결과를 파악해보니\n",
    "    - output안에 두 명의 speaker 모두가 들어있어야 하지만, 들어있지 않은 것이 47개나 되는 것을 볼 수 있고\n",
    "    - total_summarization sentence에 원래는 speaker가 10%의 비율로 들어있지만 지금의 경우 3/4에 달하는 비율로 들어있다\n",
    "    - 이는 모델의 output 구조를 강제시켜 줌으로써 보완할 수 있는 것 처럼 보인다\n",
    "        - few-shot을 통해 이상적인 output의 예시를 보여주자\n",
    "        - prompt 안에 해당 구조로 작성해달라고 추가하자."
   ]
  },
  {
   "cell_type": "code",
   "execution_count": 13,
   "metadata": {},
   "outputs": [
    {
     "name": "stdout",
     "output_type": "stream",
     "text": [
      "The number of samples that Speakers are not in the output: 7\n",
      "-----------------------------------------------------------------------------------------------\n",
      "The number of samples that Speakers are in the total summarization sentence: 308 / 408\n",
      "-----------------------------------------------------------------------------------------------\n",
      "The number of samples that the order of the speakers is (speaker1 - speaker2) : 320 / 408\n",
      "-----------------------------------------------------------------------------------------------\n",
      "The number of samples that the starter speaker is the first speaker in the output: 394 / 408\n",
      "-----------------------------------------------------------------------------------------------\n",
      "Sample indexes that The starter speaker is not the first speaker in the output: [24, 30, 47, 62, 68, 91, 93, 150, 224, 265, 284, 307, 327, 348]\n"
     ]
    }
   ],
   "source": [
    "output_semantic_structure_statistics(supernova_reuslt)"
   ]
  },
  {
   "cell_type": "code",
   "execution_count": 19,
   "metadata": {},
   "outputs": [
    {
     "name": "stdout",
     "output_type": "stream",
     "text": [
      "output: ['두 화자는 이 대화에서 학창 시절에 겪었던 사건과 학창 시절에 기억에 남는 경험에 대해 이야기했습니다. SD2000489는 초등학생 때 연못에 빠져서 추위를 많이 먹었다고 말했습니다. 또 중학교 때 친구들과 싸워서 일방적으로 맞았다고 말했습니다. 하지만 고등학교는 학교에서 큰 사고는 없었다고 말했습니다. SD2000488은 학창 시절에 큰 사건은 없다고 말했으며, 체험학습을 갔다가 친구가 차에 부딪혀 다쳤다며 선생님께서 안전사고 교육을 했다고 말했습니다. 또 초등학교부터 졸업할 때까지 매년 축제를 했고, 중학교 때 성악을 하는 친구가 멋있어서 기억에 남았다고 말했습니다. 또한 고등학교 때는 반마다 부스를 설치하여 다른 반에 놀러가며 진행했는데, 자신은 공포방 특집을 운영하며 친구들과 함께 사진을 찍었다고 말했습니다.', '두 화자는 이 대화에서 가보고 싶은 여행지, 가보고 싶은 해외 여행지, 가보고 싶은 휴양지 등에 대해 이야기했습니다. SD2000568은 국내 여행지로는 서울이나 자연경관을 볼 수 있는 곳을 추천했고, 해외 여행지로는 일본, 터키, 일본을 추천했습니다. 가족과 함께 가보고 싶은 휴양지는 일본이고, 가보고 싶은 해외 여행지는 남도, 남해, 제주도, 전라도, 일본, 터키, 중국, 베이징, 상하이, 미국, 멕시코, 브라질, 남아공, 인도, 중국, 베이징, 상하이, 미국, 멕시코, 브라질, 남아공, 인도, 중국, 베이징, 상하이, 미국, 멕시코, 브라질, 남아공, 인도, 중국, 베이징, 상하이, 미국, 멕시코, 브라질, 남아공, 인도, 중국, 베이징, 상하이, 미국, 멕시코, 브라질, 남아공, 인도, 중국, 베이징, 상하이, 미국, 멕시코, 브라질, 남아공, 인도, 중국, 베이징, 상하이, 미국, 멕시코, 브라질, 남아공, 인도, 중국, 베이징, 상하이, 미국, 멕시코, 브라질, 남아공, 인도, 중국, 베이징, 상하이, 미국, 멕시코, 브라질, 남아공, 인도, 중국, 베이징, 상하이, 미국, 멕시코, 브라질, 남아공, 인도, 중국, 베이징, 상하이, 미국, 멕시코, 브라질, 남아공, 인도, 중국, 베이징, 상하이, 미국, 멕시코, 브라질, 남아공, 인도, 중국, 베이징, 상하이, 미국, 멕시코, 브라질, 남아공, 인도, 중국, 베이징, 상하이, 미국, 멕시코, 브라질, 남아공, 인도, 중국, 베이징, 상하이, 미국, 멕시코, 브라질, 남아공, 인도, 중국, 베이징, 상하이, 미국, 멕시코, 브라질, 남아공, 인도, 중국, 베이징, 상하이, 미국, 멕시코, 브라질, 남아공, 인도, 중국, 베이징, 상하이, 미국, 멕시코, 브라질, 남아공, 인도, 중국, 베이징, 상하이, 미국, 멕시코, 브라질, 남아공, 인도, 중국, 베이징, 상하이, 미국, 멕시코, 브라질, 남아공, 인도, 중국, 베이징, 상하이, 미국, 멕시코, 브라질, 남아공, 인도, 중국, 베이징, 상하이, 미국, 멕시코, 브라질, 남아공, 인도, 중국, 베이징, 상하이, 미국, 멕시코, 브라질, 남아공, 인도, 중국, 베이징, 상하이, 미국, 멕시코, 브라질, 남아공, 인도, 중국, 베이징, 상하이, 미국, 멕시코, 브라질, 남아공, 인도, 중국, 베이징, 상하이, 미국, 멕시코, 브라질, 남아공, 인도, 중국, 베이징, 상하이, 미국, 멕시코, 브라질, 남아공, 인도, 중국, 베이징, 상하이, 미국, 멕시코, 브라질, 남아공, 인도, 중국, 베이징, 상하이, 미국, 멕시코, 브라질, 남아공, 인도, 중국, 베이징, 상하이, 미국, 멕시코, 브라질, 남아공, 인도, 중국, 베이징, 상하이, 미국, 멕시코, 브라질, 남아공, 인도, 중국, 베이징, 상하이, 미국, 멕시코, 브라질, 남아공, 인도, 중국, 베이징, 상하이, 미국, 멕시코, 브라질, 남아공, 인도, 중국, 베이징, 상하이, 미국, 멕시코, 브라질, 남아공']\n",
      "speakers: [['SD2000490', 'SD2000489'], ['SD2000568', 'SD2000569']]\n",
      "index [309, 365]\n",
      "The number of samples that Speakers are not in the output: 2\n",
      "-----------------------------------------------------------------------------------------------\n",
      "The number of samples that Speakers are in the total summarization sentence: 0 / 408\n",
      "-----------------------------------------------------------------------------------------------\n",
      "The number of samples that the order of the speakers is (speaker1 - speaker2) : 314 / 408\n",
      "-----------------------------------------------------------------------------------------------\n",
      "The number of samples that the starter speaker is the first speaker in the output: 396 / 408\n",
      "-----------------------------------------------------------------------------------------------\n",
      "Sample indexes that The starter speaker is not the first speaker in the output: [1, 24, 30, 47, 93, 116, 135, 265, 309, 312, 348, 365]\n"
     ]
    }
   ],
   "source": [
    "output_semantic_structure_statistics(cosmos)"
   ]
  },
  {
   "cell_type": "code",
   "execution_count": 41,
   "metadata": {},
   "outputs": [
    {
     "name": "stdout",
     "output_type": "stream",
     "text": [
      "output: ['두 화자는 이 대화에서 자신이 경험했던 아르바이트 중 기억에 남는 일을 이야기했습니다. SD2000239는 첫 번째 아르바이트로는 춘천에서 근무하며 닭갈비를 서빙했으며, 당시에는 고객과의 소통 방식 등 여러 가지 부분에서 어려움을 겪었다고 말했습니다. 두 번째로 경험한 아르바이트는 롯데마트에서 수박을 판매하면서 다양한 의상을 착용했고, 수박을 선택하여 판매하는 과정에서 자신의 식욕 관리 능력을 깨닫게 되었다고 했습니다. 마지막으로 아이스크림을 배달하며 편안한 시간을 보내며 여름을 즐겼다고 덧붙였습니다.', '두 화자는 이 대화를 통해 자신이 졸업한 학교, 현재 재학 중인 대학, 학창 시절에 기억에 남은 선생님 및 동아리 활동 등에 대해서 말했습니다. SD2000489는 중앙초등학교, 제주중학교, 제주사범대학 부설 고등학교, 한라대학교를 졸업하였으며, 현재 임상병리과를 전공하여 재미있게 일하고 있다고 말했습니다. 또한, 아르바이트를 할 때 주변 학교 학생으로 인해 기억에 남았다고 했습니다. 또, 중학생 시절에는 영화감상 동아리를, 고등학생 시절에는 배드민턴과 축구 동아리를 했다고 말하며, 고등학교 동료로는 연락을 자주 하고 있으며, 중학교 동료보다 더 가까운 관계라고 설명했습니다. SD20004890은 중앙초등학교, 제주여자중학교, 제주대학교 사범대학 부설 고등학교, 제주대학교 중어중문학과를 졸업하였다며, 원래 꿈은 영어 교사가 되는 것이었다고 말했습니다. 그러나 성적이 좋지 않았기에 중어중문학과에 진학하게 되었다고 덧붙였습니다. 또한, 초등학교 3학년 때 담임선생님과 고등학교 때 사회 선생님에게 큰 영향을 받아 선생님처럼 착하고 아이들에게 많은 관심을 갖는 사람으로 성장하고 싶다고 말했습니다. 그리고 초등학교, 중학교, 고등학교, 대학교 모두 동아리로 참여했다고 말하며, 초등학교는 줄넘기, 중학교는 연극, 고등학교는 문학, 대학교는 봉사 동아리로 활동했다고 설명했습니다. 또한, 초등학교 동료와는 13년째 지속적으로 연락하고 있고, 고등학교 동료들과는 연락을 자주 한다며, 중학교 동료와는 비교하면 더 긴밀한 관계라고 말했습니다.', '두 화자는 이 대화를 통해 제주도의 방문 시기를 결정하는 방법에 대해 논의했습니다. SD2000689는 가족 단위로 제주도에서 여행할 수 있는 가장 적합한 달을 선택해야 한다며 7~8월은 휴가 시즌이기 때문에 많은 사람들이 찾을 것이라고 말했습니다. 또한 9월부터 10월까지 가면 날씨도 좋아지고 사람도 적어서 편안하게 여행할 수 있다고 설명했습니다. SD2000709는 현재 코로나 상황으로 인해 항공권 가격이 낮아져 여행 비용을 절감하면서도 제주도 여행을 계획하려고 고려한다고 말하며 9월 또는 10월에 평일에 여행을 떠나는 것이 좋을 것이라는 의견을 전달했습니다. 또한 제주도는 여름 휴가를 맞아 많은 사람들이 찾기 때문에 붐빴을 것으로 예상되므로 평일을 이용하여 여행을 떠나는 것이 좋을 것이라고 조언했습니다.']\n",
      "speakers: [['SD2000239', 'SD2000240'], ['SD2000490', 'SD2000489'], ['SD2000690', 'SD2000689']]\n",
      "index [189, 308, 405]\n",
      "The number of samples that Speakers are not in the output: 3\n",
      "-----------------------------------------------------------------------------------------------\n",
      "The number of samples that Speakers are in the total summarization sentence: 1 / 408\n",
      "-----------------------------------------------------------------------------------------------\n",
      "The number of samples that the order of the speakers is (speaker1 - speaker2) : 312 / 408\n",
      "-----------------------------------------------------------------------------------------------\n",
      "The number of samples that the starter speaker is the first speaker in the output: 392 / 408\n",
      "-----------------------------------------------------------------------------------------------\n",
      "Sample indexes that The starter speaker is not the first speaker in the output: [1, 24, 29, 30, 47, 93, 116, 135, 136, 265, 273, 307, 308, 312, 348, 405]\n"
     ]
    }
   ],
   "source": [
    "output_semantic_structure_statistics(cosmosre12)"
   ]
  },
  {
   "cell_type": "markdown",
   "metadata": {},
   "source": [
    "<br/>\n",
    "\n",
    "### speaker1의 요약 내용과, spekaer2의 요약 내용의 길이를 각각 확인 \n",
    "    \n",
    "- 각 인물의 발화 내용 길이와 요약 내용의 길이 간의 상관관계 파악\n",
    "    - 만약 길이에 따라 늘어난다면, 실제 학습된 모델도 그러하는지 파악\n",
    "        - 그러하다\n",
    "        \n",
    "    - 만약 길이가 항상 고정된다면, 그에 따른 prompt 추가 및 추가 아이디어 생각 -> 잘 변화되는 것을 확인했기에 추가 실험 중단"
   ]
  },
  {
   "cell_type": "code",
   "execution_count": 45,
   "metadata": {},
   "outputs": [],
   "source": [
    "def correlation_between_utterance_length_and_output_length(df: pd.DataFrame, tokenizer, utterance_length_range: tuple = None, additional_df: pd.DataFrame =None) -> None:\n",
    "    \"\"\"\n",
    "    Plot the correlation between the utterance length and the output length.\n",
    "\n",
    "    Parameters:\n",
    "    df (pd.DataFrame): DataFrame of the data.\n",
    "    tokenizer: Tokenizer from Hugging Face Transformers.\n",
    "    utterance_length_range (tuple): Range of the utterance length to choose different color.\n",
    "    additional_df (pd.DataFrame): Additional DataFrame to plot the correlation.\n",
    "    \"\"\"\n",
    "    # Copy the DataFrame\n",
    "    df = deepcopy(df)\n",
    "\n",
    "    # Calculate the length of the utterance and the output\n",
    "    total_utterance_length = df['conversation'].apply(lambda x: sum(len(tokenizer.encode(turn['utterance'], add_special_tokens=False)) for turn in x))\n",
    "    output_length = df['output'].apply(lambda x: len(tokenizer.encode(x)))\n",
    "    if additional_df is not None:\n",
    "        additional_total_utterance_length = additional_df['conversation'].apply(lambda x: sum(len(tokenizer.encode(turn['utterance'], add_special_tokens=False)) for turn in x))\n",
    "        additional_output_length = additional_df['output'].apply(lambda x: len(tokenizer.encode(x)))\n",
    "\n",
    "    # Find output_length > 600\n",
    "    if (output_length > 600).sum() > 0:\n",
    "        print('output_length > 600:', (output_length > 600).sum())\n",
    "        print('indexes of output_length > 600:', df[output_length > 600].index.tolist())\n",
    "        if additional_df is not None:\n",
    "            print('-'*95)\n",
    "            print('additional output_length > 600:', (additional_output_length > 600).sum())\n",
    "            print('additional indexes of output_length > 600:', additional_df[additional_output_length > 600].index.tolist())\n",
    "            \n",
    "\n",
    "    # Choose different color in the utterance_length_range\n",
    "    \n",
    "    if utterance_length_range:\n",
    "        df['color'] = total_utterance_length.apply(lambda x: 'r' if utterance_length_range[0] <= x <= utterance_length_range[1] else 'b')\n",
    "\n",
    "\n",
    "    # Plot the correlation\n",
    "    plt.figure(figsize=(8, 6))\n",
    "    sns.jointplot(x=total_utterance_length, y=output_length, kind='scatter',hue=df['color'] if utterance_length_range else None, marginal_kws=dict(bins=50, fill=True))\n",
    "    # sns.jointplot(x=additional_total_utterance_length, y=additional_output_length, kind='scatter', marginal_kws=dict(bins=50, fill=True))\n",
    "    # sns.scatterplot(x=total_utterance_length, y=output_length, hue=df['color'] if utterance_length_range else None)\n",
    "    plt.xlim(0, 3500)\n",
    "    plt.ylim(0, 600)\n",
    "    plt.tight_layout()\n",
    "\n",
    "    sns.despine()\n",
    "    plt.xlabel('Total Utterance Length')\n",
    "    plt.ylabel('Output Length')\n",
    "    plt.suptitle('Correlation between Utterance Length and Output Length', y=1.02 )\n",
    "    plt.show()"
   ]
  },
  {
   "cell_type": "code",
   "execution_count": 9,
   "metadata": {},
   "outputs": [
    {
     "name": "stderr",
     "output_type": "stream",
     "text": [
      "Special tokens have been added in the vocabulary, make sure the associated word embeddings are fine-tuned or trained.\n"
     ]
    }
   ],
   "source": [
    "tokenizer_1 = AutoTokenizer.from_pretrained('MLP-KTLim/llama-3-Korean-Bllossom-8B')"
   ]
  },
  {
   "cell_type": "code",
   "execution_count": 10,
   "metadata": {},
   "outputs": [
    {
     "name": "stderr",
     "output_type": "stream",
     "text": [
      "Special tokens have been added in the vocabulary, make sure the associated word embeddings are fine-tuned or trained.\n"
     ]
    }
   ],
   "source": [
    "tokenizer = AutoTokenizer.from_pretrained('hyeogi/Yi-6b-dpo-v0.2')"
   ]
  },
  {
   "cell_type": "code",
   "execution_count": 39,
   "metadata": {},
   "outputs": [
    {
     "name": "stderr",
     "output_type": "stream",
     "text": [
      "C:\\Users\\user\\AppData\\Local\\Temp\\ipykernel_14424\\3001700109.py:44: UserWarning: The figure layout has changed to tight\n",
      "  plt.tight_layout()\n"
     ]
    },
    {
     "data": {
      "text/plain": [
       "<Figure size 800x600 with 0 Axes>"
      ]
     },
     "metadata": {},
     "output_type": "display_data"
    },
    {
     "data": {
      "image/png": "[encoded data removed]",
      "text/plain": [
       "<Figure size 600x600 with 3 Axes>"
      ]
     },
     "metadata": {},
     "output_type": "display_data"
    },
    {
     "data": {
      "image/png": "[encoded data removed]",
      "text/plain": [
       "<Figure size 600x600 with 3 Axes>"
      ]
     },
     "metadata": {},
     "output_type": "display_data"
    }
   ],
   "source": [
    "correlation_between_utterance_length_and_output_length(train_df, tokenizer_1, additional_df=dev_df)"
   ]
  },
  {
   "cell_type": "markdown",
   "metadata": {},
   "source": [
    "## output 내의 개행문자, 특수 문자 존재 여부 확인"
   ]
  },
  {
   "cell_type": "code",
   "execution_count": 49,
   "metadata": {},
   "outputs": [],
   "source": [
    "def special_character_statistics(df: pd.DataFrame) -> None:\n",
    "    \"\"\"\n",
    "    Print the statistics of the punctuation in the output.\n",
    "\n",
    "    Parameters:\n",
    "    df (pd.DataFrame): DataFrame of the data.\n",
    "    \"\"\"\n",
    "    # Copy the DataFrame\n",
    "    df = deepcopy(df)\n",
    "\n",
    "    # Check the sp_token in the output\n",
    "    sp_token = ['\\n', '!', '?', '#', '@', '$', '%', '^', '&', '*', '(', ')', '-', '_', '+', '=', '[', ']', '{', '}', '|', '\\\\', ';', ':', '\"', \"'\", '<', '>', ',', '.', '/', ' ']\n",
    "    for punc in sp_token:\n",
    "        df['punctuation'] = df['output'].apply(lambda x: punc in x)\n",
    "        punc = punc if punc != '\\n' else '\\\\n'\n",
    "        if df['punctuation'].sum():\n",
    "            print(f'The number of samples that have the special token in the output \"{punc}\":', df['punctuation'].sum(), '/', len(df), end='\\n'+'-'*95+'\\n')"
   ]
  },
  {
   "cell_type": "code",
   "execution_count": 8,
   "metadata": {},
   "outputs": [
    {
     "name": "stdout",
     "output_type": "stream",
     "text": [
      "The number of samples that have the special token in the output \"-\": 5 / 506\n",
      "-----------------------------------------------------------------------------------------------\n",
      "The number of samples that have the special token in the output \",\": 382 / 506\n",
      "-----------------------------------------------------------------------------------------------\n",
      "The number of samples that have the special token in the output \".\": 506 / 506\n",
      "-----------------------------------------------------------------------------------------------\n",
      "The number of samples that have the special token in the output \" \": 506 / 506\n",
      "-----------------------------------------------------------------------------------------------\n"
     ]
    }
   ],
   "source": [
    "special_character_statistics(train_df)"
   ]
  },
  {
   "cell_type": "code",
   "execution_count": 109,
   "metadata": {},
   "outputs": [
    {
     "name": "stdout",
     "output_type": "stream",
     "text": [
      "The number of samples that have the special token in the output \"-\": 2 / 102\n",
      "-----------------------------------------------------------------------------------------------\n",
      "The number of samples that have the special token in the output \",\": 75 / 102\n",
      "-----------------------------------------------------------------------------------------------\n",
      "The number of samples that have the special token in the output \".\": 102 / 102\n",
      "-----------------------------------------------------------------------------------------------\n",
      "The number of samples that have the special token in the output \" \": 102 / 102\n",
      "-----------------------------------------------------------------------------------------------\n"
     ]
    }
   ],
   "source": [
    "special_character_statistics(dev_df)"
   ]
  },
  {
   "cell_type": "code",
   "execution_count": 110,
   "metadata": {},
   "outputs": [
    {
     "name": "stdout",
     "output_type": "stream",
     "text": [
      "The number of samples that have the special token in the output \"\\n\": 301 / 408\n",
      "-----------------------------------------------------------------------------------------------\n",
      "The number of samples that have the special token in the output \"?\": 1 / 408\n",
      "-----------------------------------------------------------------------------------------------\n",
      "The number of samples that have the special token in the output \"#\": 9 / 408\n",
      "-----------------------------------------------------------------------------------------------\n",
      "The number of samples that have the special token in the output \"%\": 2 / 408\n",
      "-----------------------------------------------------------------------------------------------\n",
      "The number of samples that have the special token in the output \"&\": 4 / 408\n",
      "-----------------------------------------------------------------------------------------------\n",
      "The number of samples that have the special token in the output \"*\": 58 / 408\n",
      "-----------------------------------------------------------------------------------------------\n",
      "The number of samples that have the special token in the output \"(\": 15 / 408\n",
      "-----------------------------------------------------------------------------------------------\n",
      "The number of samples that have the special token in the output \")\": 15 / 408\n",
      "-----------------------------------------------------------------------------------------------\n",
      "The number of samples that have the special token in the output \"-\": 57 / 408\n",
      "-----------------------------------------------------------------------------------------------\n",
      "The number of samples that have the special token in the output \";\": 1 / 408\n",
      "-----------------------------------------------------------------------------------------------\n",
      "The number of samples that have the special token in the output \":\": 65 / 408\n",
      "-----------------------------------------------------------------------------------------------\n",
      "The number of samples that have the special token in the output \"\"\": 21 / 408\n",
      "-----------------------------------------------------------------------------------------------\n",
      "The number of samples that have the special token in the output \"'\": 17 / 408\n",
      "-----------------------------------------------------------------------------------------------\n",
      "The number of samples that have the special token in the output \",\": 408 / 408\n",
      "-----------------------------------------------------------------------------------------------\n",
      "The number of samples that have the special token in the output \".\": 408 / 408\n",
      "-----------------------------------------------------------------------------------------------\n",
      "The number of samples that have the special token in the output \" \": 408 / 408\n",
      "-----------------------------------------------------------------------------------------------\n"
     ]
    }
   ],
   "source": [
    "special_character_statistics(result_df)"
   ]
  },
  {
   "cell_type": "code",
   "execution_count": 11,
   "metadata": {},
   "outputs": [
    {
     "name": "stdout",
     "output_type": "stream",
     "text": [
      "The number of samples that have the special token in the output \"\\n\": 330 / 408\n",
      "-----------------------------------------------------------------------------------------------\n",
      "The number of samples that have the special token in the output \"?\": 6 / 408\n",
      "-----------------------------------------------------------------------------------------------\n",
      "The number of samples that have the special token in the output \"%\": 2 / 408\n",
      "-----------------------------------------------------------------------------------------------\n",
      "The number of samples that have the special token in the output \"&\": 4 / 408\n",
      "-----------------------------------------------------------------------------------------------\n",
      "The number of samples that have the special token in the output \"(\": 1 / 408\n",
      "-----------------------------------------------------------------------------------------------\n",
      "The number of samples that have the special token in the output \")\": 1 / 408\n",
      "-----------------------------------------------------------------------------------------------\n",
      "The number of samples that have the special token in the output \"-\": 4 / 408\n",
      "-----------------------------------------------------------------------------------------------\n",
      "The number of samples that have the special token in the output \"_\": 3 / 408\n",
      "-----------------------------------------------------------------------------------------------\n",
      "The number of samples that have the special token in the output \"[\": 28 / 408\n",
      "-----------------------------------------------------------------------------------------------\n",
      "The number of samples that have the special token in the output \"]\": 28 / 408\n",
      "-----------------------------------------------------------------------------------------------\n",
      "The number of samples that have the special token in the output \";\": 1 / 408\n",
      "-----------------------------------------------------------------------------------------------\n",
      "The number of samples that have the special token in the output \":\": 43 / 408\n",
      "-----------------------------------------------------------------------------------------------\n",
      "The number of samples that have the special token in the output \"\"\": 2 / 408\n",
      "-----------------------------------------------------------------------------------------------\n",
      "The number of samples that have the special token in the output \"'\": 35 / 408\n",
      "-----------------------------------------------------------------------------------------------\n",
      "The number of samples that have the special token in the output \",\": 403 / 408\n",
      "-----------------------------------------------------------------------------------------------\n",
      "The number of samples that have the special token in the output \".\": 408 / 408\n",
      "-----------------------------------------------------------------------------------------------\n",
      "The number of samples that have the special token in the output \"/\": 2 / 408\n",
      "-----------------------------------------------------------------------------------------------\n",
      "The number of samples that have the special token in the output \" \": 408 / 408\n",
      "-----------------------------------------------------------------------------------------------\n"
     ]
    }
   ],
   "source": [
    "special_character_statistics(result_df)"
   ]
  },
  {
   "cell_type": "code",
   "execution_count": 11,
   "metadata": {},
   "outputs": [
    {
     "name": "stdout",
     "output_type": "stream",
     "text": [
      "The number of samples that have the special token in the output \"\\n\": 42 / 408\n",
      "-----------------------------------------------------------------------------------------------\n",
      "The number of samples that have the special token in the output \"%\": 1 / 408\n",
      "-----------------------------------------------------------------------------------------------\n",
      "The number of samples that have the special token in the output \"&\": 1 / 408\n",
      "-----------------------------------------------------------------------------------------------\n",
      "The number of samples that have the special token in the output \"-\": 1 / 408\n",
      "-----------------------------------------------------------------------------------------------\n",
      "The number of samples that have the special token in the output \";\": 1 / 408\n",
      "-----------------------------------------------------------------------------------------------\n",
      "The number of samples that have the special token in the output \":\": 2 / 408\n",
      "-----------------------------------------------------------------------------------------------\n",
      "The number of samples that have the special token in the output \"\"\": 1 / 408\n",
      "-----------------------------------------------------------------------------------------------\n",
      "The number of samples that have the special token in the output \"'\": 17 / 408\n",
      "-----------------------------------------------------------------------------------------------\n",
      "The number of samples that have the special token in the output \",\": 367 / 408\n",
      "-----------------------------------------------------------------------------------------------\n",
      "The number of samples that have the special token in the output \".\": 408 / 408\n",
      "-----------------------------------------------------------------------------------------------\n",
      "The number of samples that have the special token in the output \"/\": 1 / 408\n",
      "-----------------------------------------------------------------------------------------------\n",
      "The number of samples that have the special token in the output \" \": 408 / 408\n",
      "-----------------------------------------------------------------------------------------------\n"
     ]
    }
   ],
   "source": [
    "special_character_statistics(nova_result)"
   ]
  },
  {
   "cell_type": "code",
   "execution_count": 17,
   "metadata": {},
   "outputs": [
    {
     "name": "stdout",
     "output_type": "stream",
     "text": [
      "The number of samples that have the special token in the output \"-\": 4 / 408\n",
      "-----------------------------------------------------------------------------------------------\n",
      "The number of samples that have the special token in the output \",\": 403 / 408\n",
      "-----------------------------------------------------------------------------------------------\n",
      "The number of samples that have the special token in the output \".\": 408 / 408\n",
      "-----------------------------------------------------------------------------------------------\n",
      "The number of samples that have the special token in the output \" \": 408 / 408\n",
      "-----------------------------------------------------------------------------------------------\n"
     ]
    }
   ],
   "source": [
    "# after post-processing\n",
    "result_df = make_dataframe('../result.json')\n",
    "\n",
    "special_character_statistics(result_df)"
   ]
  },
  {
   "cell_type": "markdown",
   "metadata": {},
   "source": [
    "- 결과, 필요없는 특수문제를 제거해 주는 것이, 점수 향상에 큰 도움을 줄 것으로 보임\n",
    "    \n",
    "    - 이걸 prompt를 통해 모델에 제안을 해줄 것일지, 아님 후처리를 통해 없엘 것인지를 선택해야함\n",
    "\n",
    "    <br/>\n",
    "    \n",
    "    - prompt를 통해 제안을 한다면\n",
    "        \n",
    "        - 보다 깔끔한 문장 형태로 특수문자가 제거될 것임\n",
    "        - 하지만, prompt의 특성상 완벽하게 제거되지 않을 가능성이 존재\n",
    "\n",
    "    - 후처리를 통해 제거한다면\n",
    "\n",
    "        - 완벽하게 제거하는 것이 가능\n",
    "        - 하지만, 문장이 이상해질 가능성이 있음. 해당 특수문자가 해당 문장 내에서 특별한 역할을 수행하는 경우가 존재하기 떄문"
   ]
  },
  {
   "cell_type": "markdown",
   "metadata": {},
   "source": [
    "---"
   ]
  },
  {
   "cell_type": "markdown",
   "metadata": {},
   "source": [
    "## Output 구조에 맞게 모델이 내뱉도록 하기 위해 할 수 있는 것들\n",
    "\n",
    "- **prompt를 구성한다**\n",
    "    - 예를 들어, \"요약을 하는데 맨 첫 문장은 전반적인 대화에 대한 요약, 이어서 'speaker 1은 ~~' 형태의 여러개의 문장, 마지막으로 'speaker 2는 ~' 형태의 여러개의 문장으로 작성해줘'\n",
    "\n",
    "</br>\n",
    "\n",
    "- **대화 내역의 노이즈를 없앤 후 모델에 전달한다**\n",
    "    - 대화 내역과 output 간의 상관관계를 파악하여 필요한 feature들과 불필요한 feautre들을 파악하고\n",
    "    - 필요한 feature들만 남겨 모델의 입력으로 사용한다\n",
    "\n",
    "</br>\n",
    "\n",
    "- **최대 길이에 의해 짤리는 부분을 완전히 없앤다**\n",
    "    - 모델이 맨 마지막 지시(instruction)에 해당하는 부분의 토큰까지 모두 입력으로 받아낼 수 있도록 \n",
    "    - 최대 길이를 조절하던지, 앞선 방식으로 입력을 줄여서 사용한다\n",
    "\n",
    "</br>\n",
    "\n",
    "- **lost in the middle 문제가 발생하는지 파악하고 이를 해결한다**\n",
    "    - 대화 내역이 워낙 길다 보니까, 중간에 해당하는 부분이 제대로 요약되고 있는지를 validation dataset에 대해 평가한다\n",
    "    - 만약 제대로 요약되지 않고 있다면, 이를 해결하기 위해 \n",
    "        - 앞서 분석한 요약에 별로 쓸모가 없는 문장들을 중간에 배치하고\n",
    "        - 중요한 문장을 앞 뒤에 배치함으로써 해결한다\n",
    "\n",
    "<br/>"
   ]
  },
  {
   "cell_type": "code",
   "execution_count": null,
   "metadata": {},
   "outputs": [],
   "source": []
  }
 ],
 "metadata": {
  "kernelspec": {
   "display_name": "nlp1",
   "language": "python",
   "name": "python3"
  },
  "language_info": {
   "codemirror_mode": {
    "name": "ipython",
    "version": 3
   },
   "file_extension": ".py",
   "mimetype": "text/x-python",
   "name": "python",
   "nbconvert_exporter": "python",
   "pygments_lexer": "ipython3",
   "version": "3.11.4"
  }
 },
 "nbformat": 4,
 "nbformat_minor": 2
}
